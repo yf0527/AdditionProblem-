{
 "cells": [
  {
   "cell_type": "markdown",
   "metadata": {},
   "source": [
    "# Addition Problem "
   ]
  },
  {
   "cell_type": "markdown",
   "metadata": {},
   "source": [
    "In 'WHITE+WATER=PICNIC', each distinct letter represents a different digit. Find the number represented by the answer PICNIC"
   ]
  },
  {
   "cell_type": "markdown",
   "metadata": {},
   "source": [
    "Brute force method"
   ]
  },
  {
   "cell_type": "code",
   "execution_count": 93,
   "metadata": {},
   "outputs": [
    {
     "name": "stdout",
     "output_type": "stream",
     "text": [
      "85642+83427=169069\n",
      "83642+85427=169069\n",
      "29514+28143=057657\n",
      "28514+29143=057657\n"
     ]
    }
   ],
   "source": [
    "equation = 'WHITE+WATER=PICNIC'\n",
    "numbers = '0123456789'\n",
    "numbers = [s for s in numbers]\n",
    "letters = list(set([s for s in equation if s>='A' and s<='Z']))\n",
    "\n",
    "\n",
    "def fs(equation, letters, numbers):\n",
    "    if not letters:\n",
    "        if((int(equation[0:5]) + int(equation[6:11])) == int(equation[12:])):\n",
    "            print(equation)\n",
    "    else:\n",
    "        l = letters[0]\n",
    "        idx = len(numbers)\n",
    "        \n",
    "        while idx:\n",
    "            idx -= 1\n",
    "            new_equation = equation.replace(l, numbers[idx])\n",
    "            fs(new_equation, letters[1:], numbers[0:idx]+numbers[idx+1:])\n",
    "\n",
    "\n",
    "fs(equation,letters,numbers)"
   ]
  },
  {
   "cell_type": "code",
   "execution_count": null,
   "metadata": {},
   "outputs": [],
   "source": []
  }
 ],
 "metadata": {
  "kernelspec": {
   "display_name": "Python 3",
   "language": "python",
   "name": "python3"
  },
  "language_info": {
   "codemirror_mode": {
    "name": "ipython",
    "version": 3
   },
   "file_extension": ".py",
   "mimetype": "text/x-python",
   "name": "python",
   "nbconvert_exporter": "python",
   "pygments_lexer": "ipython3",
   "version": "3.7.4"
  }
 },
 "nbformat": 4,
 "nbformat_minor": 2
}
